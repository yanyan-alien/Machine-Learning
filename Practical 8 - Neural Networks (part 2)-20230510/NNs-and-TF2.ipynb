{
 "cells": [
  {
   "cell_type": "code",
   "execution_count": 1,
   "metadata": {
    "executionInfo": {
     "elapsed": 281,
     "status": "ok",
     "timestamp": 1652082095453,
     "user": {
      "displayName": "C Kraisnikovic",
      "userId": "08041999211400239892"
     },
     "user_tz": -120
    },
    "id": "j7MWe6pX675_"
   },
   "outputs": [
    {
     "ename": "ModuleNotFoundError",
     "evalue": "No module named 'tensorflow'",
     "output_type": "error",
     "traceback": [
      "\u001b[1;31m---------------------------------------------------------------------------\u001b[0m",
      "\u001b[1;31mModuleNotFoundError\u001b[0m                       Traceback (most recent call last)",
      "Input \u001b[1;32mIn [1]\u001b[0m, in \u001b[0;36m<cell line: 1>\u001b[1;34m()\u001b[0m\n\u001b[1;32m----> 1\u001b[0m \u001b[38;5;28;01mimport\u001b[39;00m \u001b[38;5;21;01mtensorflow\u001b[39;00m \u001b[38;5;28;01mas\u001b[39;00m \u001b[38;5;21;01mtf\u001b[39;00m\n\u001b[0;32m      2\u001b[0m \u001b[38;5;28;01mimport\u001b[39;00m \u001b[38;5;21;01mtensorflow\u001b[39;00m\u001b[38;5;21;01m.\u001b[39;00m\u001b[38;5;21;01mkeras\u001b[39;00m\u001b[38;5;21;01m.\u001b[39;00m\u001b[38;5;21;01mbackend\u001b[39;00m \u001b[38;5;28;01mas\u001b[39;00m \u001b[38;5;21;01mtf_keras_backend\u001b[39;00m\n\u001b[0;32m      4\u001b[0m \u001b[38;5;28;01mimport\u001b[39;00m \u001b[38;5;21;01mnumpy\u001b[39;00m \u001b[38;5;28;01mas\u001b[39;00m \u001b[38;5;21;01mnp\u001b[39;00m\n",
      "\u001b[1;31mModuleNotFoundError\u001b[0m: No module named 'tensorflow'"
     ]
    }
   ],
   "source": [
    "import tensorflow as tf\n",
    "import tensorflow.keras.backend as tf_keras_backend\n",
    "\n",
    "import numpy as np\n",
    "from enum import Enum\n",
    "\n",
    "import matplotlib.pyplot as plt\n",
    "import matplotlib.ticker as ticker\n",
    "from matplotlib.colors import ListedColormap, LinearSegmentedColormap\n",
    "cm_blue_orange = ListedColormap(['blue', 'orange'])"
   ]
  },
  {
   "cell_type": "code",
   "execution_count": 3,
   "metadata": {
    "executionInfo": {
     "elapsed": 263,
     "status": "ok",
     "timestamp": 1652082096836,
     "user": {
      "displayName": "C Kraisnikovic",
      "userId": "08041999211400239892"
     },
     "user_tz": -120
    },
    "id": "8oVjvIc-QGqv"
   },
   "outputs": [],
   "source": [
    "def sigmoid(x):\n",
    "    return 1. / (1. + np.exp(-x))\n",
    "\n",
    "def relu(x):\n",
    "    return np.maximum(x, 0.)\n",
    "\n",
    "def relu_derivative(x):\n",
    "    return np.heaviside(x, 1.)\n",
    "\n",
    "def binary_loss(probs, y):\n",
    "    # probs: predictions y_hat (after applying sigmoid function, they can be interpreted as probabilities)\n",
    "    # y: target\n",
    "    eps = tf_keras_backend.epsilon() # 1e-7\n",
    "    probs = np.clip(probs, eps, 1 - eps)\n",
    "    return -y * np.log(probs + eps) - (1. - y) * np.log(1. - probs + eps)"
   ]
  },
  {
   "cell_type": "code",
   "execution_count": 4,
   "metadata": {
    "executionInfo": {
     "elapsed": 19,
     "status": "ok",
     "timestamp": 1652082097940,
     "user": {
      "displayName": "C Kraisnikovic",
      "userId": "08041999211400239892"
     },
     "user_tz": -120
    },
    "id": "Oa1qtE-l7Gts"
   },
   "outputs": [],
   "source": [
    "class Task(Enum):\n",
    "    CIRCLE = 'circle'\n",
    "    STEP = 'step'\n",
    "    STEPDOWN = 'stepdown'"
   ]
  },
  {
   "cell_type": "code",
   "execution_count": 5,
   "metadata": {
    "executionInfo": {
     "elapsed": 8,
     "status": "ok",
     "timestamp": 1652082099162,
     "user": {
      "displayName": "C Kraisnikovic",
      "userId": "08041999211400239892"
     },
     "user_tz": -120
    },
    "id": "yp4kNA6T66U9"
   },
   "outputs": [],
   "source": [
    "def generate_dataset(max_x, task): \n",
    "    one_third = max_x // 3\n",
    "    two_thirds = 2 * max_x // 3\n",
    "\n",
    "    x = np.arange(max_x)\n",
    "    a = np.repeat(x, max_x)\n",
    "    b = np.tile(x, max_x)\n",
    "    inputs = np.array([a, b]).T\n",
    "\n",
    "    if task == Task.STEP:\n",
    "        targets = np.logical_and(inputs[:, 0] >= one_third, inputs[:, 1] >= one_third).astype('float32').reshape((-1, 1))\n",
    "    elif task == Task.STEPDOWN:\n",
    "        targets = np.logical_and(inputs[:, 0] >= one_third, inputs[:, 1] <= two_thirds).astype('float32').reshape((-1, 1))\n",
    "    elif task == Task.CIRCLE:\n",
    "        targets = np.where(inputs[:, 0] ** 2 + inputs[:, 1] ** 2 - two_thirds * max_x >= 0,\n",
    "                       np.zeros(max_x ** 2), np.ones(max_x ** 2)).astype('float32').reshape((-1, 1))\n",
    "\n",
    "    return inputs / max_x, targets"
   ]
  },
  {
   "cell_type": "code",
   "execution_count": 6,
   "metadata": {},
   "outputs": [],
   "source": [
    "# Plot the dataset\n",
    "def plot_datapoints(X, y, title, fig_name='fig.png'):\n",
    "    fig, axs = plt.subplots(1, 1, figsize=(5, 5))\n",
    "    fig.suptitle(title, y=0.93)\n",
    "\n",
    "    p = axs.scatter(X[:, 0], X[:, 1], c=y, cmap=cm_blue_orange)\n",
    "\n",
    "    axs.set_xlabel('x1')\n",
    "    axs.set_ylabel('x2')\n",
    "    axs.legend(*p.legend_elements(), loc='best', bbox_to_anchor=(0.96, 1.15))   \n",
    "    \n",
    "#     fig.savefig(fig_name)"
   ]
  },
  {
   "cell_type": "code",
   "execution_count": 7,
   "metadata": {
    "colab": {
     "base_uri": "https://localhost:8080/"
    },
    "executionInfo": {
     "elapsed": 20,
     "status": "ok",
     "timestamp": 1652082100407,
     "user": {
      "displayName": "C Kraisnikovic",
      "userId": "08041999211400239892"
     },
     "user_tz": -120
    },
    "id": "7JuzPrjS93QO",
    "outputId": "9404f94f-31c1-4d3b-e0c5-5e55d112fdd5"
   },
   "outputs": [
    {
     "name": "stdout",
     "output_type": "stream",
     "text": [
      "720 180\n",
      "(720, 2) (720, 1) (180, 2) (180, 1)\n"
     ]
    }
   ],
   "source": [
    "seed = 3000\n",
    "np.random.seed(seed)\n",
    "\n",
    "task = Task.STEP\n",
    "\n",
    "# Generate the dataset\n",
    "inputs, targets = generate_dataset(max_x=30, task=task)\n",
    "idx_arr = np.random.permutation(inputs.shape[0])\n",
    "inputs = inputs[idx_arr, :]\n",
    "targets = targets[idx_arr]\n",
    "\n",
    "# Split\n",
    "train_size = int(inputs.shape[0] * 0.8)\n",
    "test_size = inputs.shape[0] - train_size\n",
    "assert train_size + test_size == inputs.shape[0]\n",
    "print(train_size, test_size)\n",
    "\n",
    "x_train = inputs[:train_size, :]\n",
    "y_train = targets[:train_size]\n",
    "\n",
    "x_test = inputs[train_size:, :]\n",
    "y_test = targets[train_size:]\n",
    "\n",
    "print(x_train.shape, y_train.shape, x_test.shape, y_test.shape)"
   ]
  },
  {
   "cell_type": "code",
   "execution_count": 8,
   "metadata": {},
   "outputs": [
    {
     "data": {
      "image/png": "[encoded data removed]",
      "text/plain": [
       "<Figure size 360x360 with 1 Axes>"
      ]
     },
     "metadata": {
      "needs_background": "light"
     },
     "output_type": "display_data"
    }
   ],
   "source": [
    "plot_datapoints(inputs, targets, 'Targets', 'targets' + str(task) + '.png')"
   ]
  },
  {
   "cell_type": "code",
   "execution_count": 12,
   "metadata": {
    "executionInfo": {
     "elapsed": 3,
     "status": "ok",
     "timestamp": 1652082106031,
     "user": {
      "displayName": "C Kraisnikovic",
      "userId": "08041999211400239892"
     },
     "user_tz": -120
    },
    "id": "ygfmyWfcT2WG"
   },
   "outputs": [],
   "source": [
    "# Define the forward and backward pass of NN\n",
    "def forward_pass(x, W1, b1, W2, b2):\n",
    "    z1 = W1.T @ x + b1\n",
    "    h1 = relu(z1)\n",
    "    z2 = W2.T @ h1 + b2\n",
    "    h2 = sigmoid(z2)\n",
    "\n",
    "    return z1, h1, z2, h2\n",
    "\n",
    "def backward_pass(x, W1, b1, W2, b2, z1, h1, z2, h2, y):\n",
    "    dl_dz2 = (h2 - y).reshape((1, -1)) # in our case, a scalar, but in general, it should be a row-vector, hence reshaping\n",
    "    dl_W2 = h1 @ dl_dz2\n",
    "    dl_b2 = dl_dz2.T \n",
    "       \n",
    "    dz2_dh1 = W2.T\n",
    "    relu_der = relu_derivative(z1)\n",
    "    dh1_dz1 = np.eye(relu_der.size, dtype=np.float32) * relu_der\n",
    "\n",
    "    dl_W1 = x @ (dl_dz2.T @ dz2_dh1 @ dh1_dz1)\n",
    "    dl_b1 = (dl_dz2.T @ dz2_dh1 @ dh1_dz1).T\n",
    "\n",
    "    return dl_W1, dl_b1, dl_W2, dl_b2"
   ]
  },
  {
   "cell_type": "code",
   "execution_count": 13,
   "metadata": {
    "colab": {
     "base_uri": "https://localhost:8080/"
    },
    "executionInfo": {
     "elapsed": 232,
     "status": "ok",
     "timestamp": 1652082103787,
     "user": {
      "displayName": "C Kraisnikovic",
      "userId": "08041999211400239892"
     },
     "user_tz": -120
    },
    "id": "0268gma6S1Ty",
    "outputId": "e872aebd-6915-4c5c-bf27-c82bad9c2e69"
   },
   "outputs": [
    {
     "name": "stdout",
     "output_type": "stream",
     "text": [
      "Shapes:  (2, 5) (5, 1) (5, 1) (1, 1)\n",
      "\n",
      "W and b before training: \n",
      "W1:  [[ 0.74233055 -0.24227977 -0.731178   -0.88009864 -0.6077776 ]\n",
      " [-0.06495613 -0.3821292   0.7989758   0.65102196  0.11091197]]\n",
      "b1:  [[0.]\n",
      " [0.]\n",
      " [0.]\n",
      " [0.]\n",
      " [0.]]\n",
      "W2:  [[ 0.08515286]\n",
      " [ 0.59568644]\n",
      " [ 0.5218899 ]\n",
      " [ 0.29405284]\n",
      " [-0.45983934]]\n",
      "b2:  [[0.]]\n"
     ]
    }
   ],
   "source": [
    "np.random.seed(seed)\n",
    "tf.random.set_seed(seed)\n",
    "\n",
    "# Create the model\n",
    "n_inp = 2\n",
    "n_hidden = 5 #5 # for Task.STEPDOWN, use n_hidden = 10\n",
    "n_out = 1\n",
    "\n",
    "# TF model\n",
    "inputs = tf.keras.Input(shape=(n_inp,), name=\"x\")\n",
    "x1 = tf.keras.layers.Dense(n_hidden, activation=\"relu\")(inputs) \n",
    "outputs = tf.keras.layers.Dense(n_out, activation=\"sigmoid\", name=\"predictions\")(x1)\n",
    "model = tf.keras.Model(inputs=inputs, outputs=outputs)\n",
    "\n",
    "# Instantiate an optimizer\n",
    "lr = 0.5  # for Task.STEPDOWN, use lr = 0.99\n",
    "optimizer = tf.keras.optimizers.SGD(learning_rate=lr)\n",
    "# Instantiate a loss function.\n",
    "loss_fn = tf.keras.losses.BinaryCrossentropy()\n",
    "# Prepare the metrics\n",
    "train_acc_metric = tf.keras.metrics.BinaryAccuracy()\n",
    "test_acc_metric = tf.keras.metrics.BinaryAccuracy()\n",
    "\n",
    "# -----------------\n",
    "# Start from the same weights as the TF model does, before it is trained (copy the weights of the TF model)\n",
    "# A bad initialization can sometimes be a reason why your model does not learn well. \n",
    "# TF has an init that works well.\n",
    "\n",
    "W1 = model.get_weights()[0]\n",
    "b1 = model.get_weights()[1].reshape((-1, 1))\n",
    "W2 = model.get_weights()[2]\n",
    "b2 = model.get_weights()[3].reshape((-1, 1))\n",
    "\n",
    "print('Shapes: ', W1.shape, b1.shape, W2.shape, b2.shape)\n",
    "print('\\nW and b before training: ')\n",
    "print('W1: ', W1)\n",
    "print('b1: ', b1)\n",
    "print('W2: ', W2)\n",
    "print('b2: ', b2)"
   ]
  },
  {
   "cell_type": "code",
   "execution_count": 14,
   "metadata": {
    "colab": {
     "base_uri": "https://localhost:8080/"
    },
    "executionInfo": {
     "elapsed": 49606,
     "status": "ok",
     "timestamp": 1652082157226,
     "user": {
      "displayName": "C Kraisnikovic",
      "userId": "08041999211400239892"
     },
     "user_tz": -120
    },
    "id": "Re3CTSYQQG2z",
    "outputId": "d8c7ae2e-f3f2-4f34-99ef-7197ecb0ed5e"
   },
   "outputs": [
    {
     "name": "stdout",
     "output_type": "stream",
     "text": [
      "Epoch 0. Loss: 0.7133. Accuracy: 0.4472\n",
      "Epoch 1. Loss: 0.7070. Accuracy: 0.5750\n",
      "Epoch 2. Loss: 0.7014. Accuracy: 0.5278\n",
      "Epoch 3. Loss: 0.6961. Accuracy: 0.5236\n",
      "Epoch 4. Loss: 0.6907. Accuracy: 0.5236\n",
      "Epoch 5. Loss: 0.6853. Accuracy: 0.5486\n",
      "Epoch 6. Loss: 0.6802. Accuracy: 0.5625\n",
      "Epoch 7. Loss: 0.6756. Accuracy: 0.5847\n",
      "Epoch 8. Loss: 0.6715. Accuracy: 0.6014\n",
      "Epoch 9. Loss: 0.6676. Accuracy: 0.6083\n",
      "Epoch 10. Loss: 0.6637. Accuracy: 0.6181\n",
      "Epoch 100. Loss: 0.3295. Accuracy: 0.8486\n",
      "Epoch 200. Loss: 0.2930. Accuracy: 0.8583\n",
      "Epoch 300. Loss: 0.2451. Accuracy: 0.8833\n",
      "Epoch 400. Loss: 0.1818. Accuracy: 0.9250\n",
      "Epoch 500. Loss: 0.1365. Accuracy: 0.9583\n",
      "Epoch 600. Loss: 0.1092. Accuracy: 0.9722\n",
      "Epoch 700. Loss: 0.0920. Accuracy: 0.9806\n",
      "Epoch 800. Loss: 0.0802. Accuracy: 0.9875\n",
      "Epoch 900. Loss: 0.0717. Accuracy: 0.9944\n",
      "Epoch 999. Loss: 0.0651. Accuracy: 1.0000\n",
      "\n",
      "Test loss: 0.0668\n",
      "Test accuracy: 1.0000\n",
      "\n",
      "W and b after training: \n",
      "W1:  [[ 0.6397282  -0.24227977 -0.299509   -5.252497   -0.17151086]\n",
      " [ 3.002      -0.3821292   3.7249131   4.1918964  -2.2283545 ]]\n",
      "b1:  [[-5.3315473e-01]\n",
      " [-2.0683557e-04]\n",
      " [-8.8192970e-02]\n",
      " [ 3.5360220e-01]\n",
      " [ 2.2124488e+00]]\n",
      "W2:  [[ 3.0264075 ]\n",
      " [ 0.59568644]\n",
      " [ 3.613943  ]\n",
      " [-6.6471763 ]\n",
      " [-3.114647  ]]\n",
      "b2:  [[-1.4486599]]\n"
     ]
    }
   ],
   "source": [
    "epochs = 1000\n",
    "\n",
    "for epoch in range(epochs):\n",
    "    \n",
    "    loss = 0\n",
    "    z1_arr = np.zeros((x_train.shape[0], n_hidden))\n",
    "    h1_arr = np.zeros((x_train.shape[0], n_hidden))\n",
    "    z2_arr = np.zeros((x_train.shape[0], n_out))\n",
    "    h2_arr = np.zeros((x_train.shape[0], n_out))\n",
    "\n",
    "    # Forward pass:  \n",
    "    # propagate all training examples (and save all vars per example), and accumulate the loss\n",
    "    for i in range(x_train.shape[0]):\n",
    "        z1, h1, z2, h2 = forward_pass(x_train[i].reshape((-1, 1)), W1, b1, W2, b2)\n",
    "        z1_arr[i] = z1.squeeze()  # z1.squeeze() does this: (n_hidden, 1) --> (n_hidden,)\n",
    "        h1_arr[i] = h1.squeeze()\n",
    "        z2_arr[i] = z2.squeeze()\n",
    "        h2_arr[i] = h2.squeeze()\n",
    "\n",
    "        probs = h2\n",
    "        loss += binary_loss(probs, y_train[i])\n",
    "\n",
    "    # Backward pass\n",
    "    delta_W1 = np.zeros_like(W1)\n",
    "    delta_b1 = np.zeros_like(b1)\n",
    "    delta_W2 = np.zeros_like(W2)\n",
    "    delta_b2 = np.zeros_like(b2)\n",
    "\n",
    "    for i in range(x_train.shape[0]):\n",
    "        dW1, db1, dW2, db2 = backward_pass(x_train[i].reshape((-1, 1)), \n",
    "                                           W1, b1, W2, b2, \n",
    "                                           z1_arr[i].reshape((-1, 1)), \n",
    "                                           h1_arr[i].reshape((-1, 1)), \n",
    "                                           z2_arr[i].reshape((-1, 1)),\n",
    "                                           h2_arr[i].reshape((-1, 1)),\n",
    "                                           y_train[i])\n",
    "        delta_W1 += dW1\n",
    "        delta_b1 += db1\n",
    "        delta_W2 += dW2\n",
    "        delta_b2 += db2\n",
    "\n",
    "    delta_W1 /= x_train.shape[0]\n",
    "    delta_b1 /= x_train.shape[0]\n",
    "    delta_W2 /= x_train.shape[0]\n",
    "    delta_b2 /= x_train.shape[0]\n",
    "\n",
    "    W1 -= lr * delta_W1\n",
    "    b1 -= lr * delta_b1\n",
    "    W2 -= lr * delta_W2\n",
    "    b2 -= lr * delta_b2 \n",
    "\n",
    "    if epoch <= 10 or epoch % 100 == 0 or epoch == epochs - 1:\n",
    "        actual_output = np.where(h2_arr <= 0.5, np.zeros_like(h2_arr), np.ones_like(h2_arr))\n",
    "        accuracy = np.sum(actual_output == y_train) / y_train.size\n",
    "        print(f'Epoch {epoch}. Loss: {float(loss / x_train.shape[0]):.4f}. Accuracy: {accuracy:.4f}')\n",
    "        \n",
    "#     # TF model\n",
    "#     with tf.GradientTape() as tape:\n",
    "#         out = model(x_train, training=True) \n",
    "#         loss_value = loss_fn(y_train, out)\n",
    "\n",
    "#         grads = tape.gradient(loss_value, model.trainable_weights)\n",
    "#         optimizer.apply_gradients(zip(grads, model.trainable_weights))\n",
    "\n",
    "#         train_acc_metric.reset_state()\n",
    "#         train_acc_metric.update_state(y_train, out)\n",
    "#         curr_train_acc = train_acc_metric.result()\n",
    "\n",
    "#     if epoch <= 10 or epoch % 100 == 0 or epoch == epochs - 1:\n",
    "#         print(f'TF:\\nEpoch {epoch}. Loss: {float(loss_value):.4f}. Accuracy: {float(curr_train_acc):.4f}')\n",
    "#         print('\\n')\n",
    "\n",
    "# Test \n",
    "# Forward pass\n",
    "test_loss = 0\n",
    "z1_arr = np.zeros((x_test.shape[0], n_hidden))\n",
    "h1_arr = np.zeros((x_test.shape[0], n_hidden))\n",
    "z2_arr = np.zeros((x_test.shape[0], n_out))\n",
    "h2_arr = np.zeros((x_test.shape[0], n_out))\n",
    "\n",
    "for i in range(x_test.shape[0]):\n",
    "    z1, h1, z2, h2 = forward_pass(x_test[i].reshape((-1, 1)), W1, b1, W2, b2)\n",
    "    z1_arr[i] = z1.squeeze()\n",
    "    h1_arr[i] = h1.squeeze()\n",
    "    z2_arr[i] = z2.squeeze()\n",
    "    h2_arr[i] = h2.squeeze()\n",
    "\n",
    "    probs = h2\n",
    "    test_loss += binary_loss(probs, y_test[i])\n",
    "\n",
    "print(f'\\nTest loss: {float(test_loss / x_test.shape[0]):.4f}')\n",
    "actual_output = np.where(h2_arr <= 0.5, np.zeros_like(h2_arr), np.ones_like(h2_arr))\n",
    "accuracy = np.sum(actual_output == y_test) / y_test.size\n",
    "print(f'Test accuracy: {accuracy:.4f}')\n",
    "\n",
    "print('\\nW and b after training: ')\n",
    "print('W1: ', W1)\n",
    "print('b1: ', b1)\n",
    "print('W2: ', W2)\n",
    "print('b2: ', b2)"
   ]
  },
  {
   "cell_type": "code",
   "execution_count": 15,
   "metadata": {
    "colab": {
     "base_uri": "https://localhost:8080/",
     "height": 520
    },
    "executionInfo": {
     "elapsed": 3410,
     "status": "error",
     "timestamp": 1652082293420,
     "user": {
      "displayName": "C Kraisnikovic",
      "userId": "08041999211400239892"
     },
     "user_tz": -120
    },
    "id": "wnBasVWW9D5_",
    "outputId": "a0e4a09c-4938-4fc3-b537-a7680e432cda"
   },
   "outputs": [
    {
     "name": "stdout",
     "output_type": "stream",
     "text": [
      "Epoch 0. Loss: 0.7133. Accuracy: 0.4472\n",
      "Epoch 1. Loss: 0.7070. Accuracy: 0.5750\n",
      "Epoch 2. Loss: 0.7014. Accuracy: 0.5278\n",
      "Epoch 3. Loss: 0.6961. Accuracy: 0.5250\n",
      "Epoch 4. Loss: 0.6908. Accuracy: 0.5236\n",
      "Epoch 5. Loss: 0.6853. Accuracy: 0.5486\n",
      "Epoch 6. Loss: 0.6802. Accuracy: 0.5667\n",
      "Epoch 7. Loss: 0.6756. Accuracy: 0.5847\n",
      "Epoch 8. Loss: 0.6715. Accuracy: 0.6014\n",
      "Epoch 9. Loss: 0.6675. Accuracy: 0.6083\n",
      "Epoch 10. Loss: 0.6637. Accuracy: 0.6181\n",
      "Epoch 100. Loss: 0.3295. Accuracy: 0.8486\n",
      "Epoch 200. Loss: 0.2928. Accuracy: 0.8583\n",
      "Epoch 300. Loss: 0.2448. Accuracy: 0.8833\n",
      "Epoch 400. Loss: 0.1815. Accuracy: 0.9264\n",
      "Epoch 500. Loss: 0.1363. Accuracy: 0.9583\n",
      "Epoch 600. Loss: 0.1091. Accuracy: 0.9722\n",
      "Epoch 700. Loss: 0.0919. Accuracy: 0.9806\n",
      "Epoch 800. Loss: 0.0802. Accuracy: 0.9875\n",
      "Epoch 900. Loss: 0.0716. Accuracy: 0.9944\n",
      "Epoch 999. Loss: 0.0651. Accuracy: 1.0000\n",
      "Test loss: 0.0667\n",
      "Test accuracy: 1.0000\n"
     ]
    }
   ],
   "source": [
    "# Tensorflow model training \n",
    "epochs = 1000\n",
    "for epoch in range(epochs):\n",
    "\n",
    "    with tf.GradientTape() as tape:\n",
    "        out = model(x_train, training=True) \n",
    "        loss_value = loss_fn(y_train, out)\n",
    "\n",
    "        grads = tape.gradient(loss_value, model.trainable_weights)\n",
    "        optimizer.apply_gradients(zip(grads, model.trainable_weights))\n",
    "\n",
    "        train_acc_metric.reset_state()\n",
    "        train_acc_metric.update_state(y_train, out)\n",
    "        curr_train_acc = train_acc_metric.result()\n",
    "\n",
    "    if epoch <= 10 or epoch % 100 == 0 or epoch == epochs - 1:\n",
    "        print(f'Epoch {epoch}. Loss: {float(loss_value):.4f}. Accuracy: {float(curr_train_acc):.4f}')\n",
    "\n",
    "#         print(f'Training loss in epoch {epoch}: {float(loss_value):.4f}')\n",
    "#         print(f'Accuracy in epoch {epoch}: {float(curr_train_acc):.4f}')\n",
    "\n",
    "        \n",
    "# Run a test loop at the end of training\n",
    "test_out = model(x_test, training=False)\n",
    "loss_value = loss_fn(y_test, test_out)\n",
    "print(f'Test loss: {float(loss_value):.4f}')\n",
    "    \n",
    "# Update test metrics\n",
    "test_acc_metric.reset_state()\n",
    "test_acc_metric.update_state(y_test, test_out)\n",
    "test_acc = test_acc_metric.result()\n",
    "print(f'Test accuracy: {float(test_acc):.4f}')"
   ]
  },
  {
   "cell_type": "code",
   "execution_count": 16,
   "metadata": {
    "colab": {
     "base_uri": "https://localhost:8080/"
    },
    "executionInfo": {
     "elapsed": 266,
     "status": "ok",
     "timestamp": 1652082204556,
     "user": {
      "displayName": "C Kraisnikovic",
      "userId": "08041999211400239892"
     },
     "user_tz": -120
    },
    "id": "mwhm717wyFhb",
    "outputId": "5423e69b-0cd7-4f30-a494-4cc474eca22a"
   },
   "outputs": [
    {
     "data": {
      "text/plain": [
       "[array([[ 0.6395799 , -0.24227977, -0.2994177 , -5.2532344 , -0.17150971],\n",
       "        [ 3.0016823 , -0.3821292 ,  3.7265172 ,  4.1934342 , -2.2283268 ]],\n",
       "       dtype=float32),\n",
       " array([-0.5334198 ,  0.        , -0.08866916,  0.35595456,  2.2124267 ],\n",
       "       dtype=float32),\n",
       " array([[ 3.0261078 ],\n",
       "        [ 0.59568644],\n",
       "        [ 3.615591  ],\n",
       "        [-6.6488566 ],\n",
       "        [-3.1146169 ]], dtype=float32),\n",
       " array([-1.4492072], dtype=float32)]"
      ]
     },
     "execution_count": 16,
     "metadata": {},
     "output_type": "execute_result"
    }
   ],
   "source": [
    "model.get_weights()"
   ]
  },
  {
   "cell_type": "code",
   "execution_count": null,
   "metadata": {},
   "outputs": [],
   "source": []
  },
  {
   "cell_type": "code",
   "execution_count": null,
   "metadata": {},
   "outputs": [],
   "source": []
  }
 ],
 "metadata": {
  "colab": {
   "authorship_tag": "ABX9TyPS9RuXNPVE7NA4yiuZ6ffo",
   "collapsed_sections": [],
   "name": "NNs-and-TF2.ipynb",
   "provenance": []
  },
  "kernelspec": {
   "display_name": "Python 3 (ipykernel)",
   "language": "python",
   "name": "python3"
  },
  "language_info": {
   "codemirror_mode": {
    "name": "ipython",
    "version": 3
   },
   "file_extension": ".py",
   "mimetype": "text/x-python",
   "name": "python",
   "nbconvert_exporter": "python",
   "pygments_lexer": "ipython3",
   "version": "3.10.7"
  },
  "toc": {
   "base_numbering": 1,
   "nav_menu": {},
   "number_sections": true,
   "sideBar": true,
   "skip_h1_title": false,
   "title_cell": "Table of Contents",
   "title_sidebar": "Contents",
   "toc_cell": false,
   "toc_position": {},
   "toc_section_display": true,
   "toc_window_display": false
  }
 },
 "nbformat": 4,
 "nbformat_minor": 1
}
